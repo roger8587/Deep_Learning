{
 "cells": [
  {
   "cell_type": "markdown",
   "metadata": {},
   "source": [
    "# Recurrent Neural Network for Classification"
   ]
  },
  {
   "cell_type": "code",
   "execution_count": 1,
   "metadata": {},
   "outputs": [],
   "source": [
    "import numpy as np\n",
    "import pandas as pd\n",
    "import seaborn as sns\n",
    "import matplotlib.pyplot as plt\n",
    "from matplotlib import rc"
   ]
  },
  {
   "cell_type": "markdown",
   "metadata": {},
   "source": [
    "再匯入資料後，將經緯度欄位刪除，然後再計算每兩天間的人數差距，資料從原本的85欄變成81欄，接著再計算各國家間的相關係數，由於原本有185個國家在圖中無法完整呈現，所以我只用了前10個國家來畫圖"
   ]
  },
  {
   "cell_type": "code",
   "execution_count": 2,
   "metadata": {
    "scrolled": false
   },
   "outputs": [
    {
     "data": {
      "text/plain": [
       "<matplotlib.axes._subplots.AxesSubplot at 0x1b2eacce708>"
      ]
     },
     "execution_count": 2,
     "metadata": {},
     "output_type": "execute_result"
    },
    {
     "data": {
      "image/png": "[encoded data removed]",
      "text/plain": [
       "<Figure size 432x288 with 2 Axes>"
      ]
     },
     "metadata": {
      "needs_background": "light"
     },
     "output_type": "display_data"
    }
   ],
   "source": [
    "df = pd.read_csv('covid_19.csv')\n",
    "dff = df.iloc[:,4:].values-df.iloc[:,3:-1].values\n",
    "df = pd.concat([df.iloc[:,0],pd.DataFrame(dff)],axis=1)\n",
    "df.index = df['Country/Region']\n",
    "a = []\n",
    "for i in range(df.shape[0]-1):\n",
    "    for j in range(i+1,df.shape[0]):\n",
    "        cor = np.corrcoef(df.iloc[i,1:].values.astype('float32'), df.iloc[j,1:].values.astype('float32'))[0,1]\n",
    "        a.append([df.iloc[i,0],df.iloc[j,0],cor])\n",
    "a = pd.DataFrame(a)\n",
    "df1= a.pivot(index=1, columns=0, values=2)\n",
    "sns.heatmap(df1.iloc[:10,:10])"
   ]
  },
  {
   "cell_type": "markdown",
   "metadata": {},
   "source": [
    "將彼此相關係數大於 0.9的兩個國家都放入C集合中，L設為10，label為人數是否上升，1是上升，0是下降或不變，所以會產生很多長度為10的data，最後在以後20天的資料為test dataset，其餘為train dataset。"
   ]
  },
  {
   "cell_type": "code",
   "execution_count": 3,
   "metadata": {},
   "outputs": [],
   "source": [
    "a1 = a[a[2]>0.9][0].values\n",
    "a2 = a[a[2]>0.9][1].values\n",
    "a3 = np.append(a1,a2)\n",
    "a4 = np.unique(a3)\n",
    "data = df.loc[a4,:]\n",
    "data = data.iloc[:, 1:]\n",
    "test_data_size = 20\n",
    "train_data = data.iloc[:,:-test_data_size]\n",
    "test_data = data.iloc[:,-test_data_size:]"
   ]
  },
  {
   "cell_type": "code",
   "execution_count": 4,
   "metadata": {},
   "outputs": [],
   "source": [
    "import torch\n",
    "from torch import nn, optim\n",
    "import torch.nn.functional as F"
   ]
  },
  {
   "cell_type": "code",
   "execution_count": 5,
   "metadata": {},
   "outputs": [],
   "source": [
    "def create_sequences(data, seq_length):\n",
    "    xs = []\n",
    "    ys = []\n",
    "    for i in range(data.shape[1]-seq_length-1):\n",
    "        x = data.iloc[:,i:(i+seq_length)].values\n",
    "        y = data.iloc[:,i+seq_length].values\n",
    "        xs.append(x)\n",
    "        yss = []\n",
    "        for j in range(x.shape[0]): \n",
    "            if y[j]>0:\n",
    "                yss.append(1)\n",
    "            else:\n",
    "                yss.append(0)\n",
    "        ys.append(np.array(yss))\n",
    "    return np.array(xs), np.array(ys)\n",
    "seq_length = 10\n",
    "X_train, y_train = create_sequences(train_data, seq_length)\n",
    "X_test, y_test = create_sequences(test_data, seq_length)\n",
    "sample_size = train_data.shape[1]-seq_length-1\n",
    "sample_size1 = test_data.shape[1]-seq_length-1\n",
    "X_train = torch.from_numpy(X_train).float()\n",
    "y_train = torch.from_numpy(y_train).float()\n",
    "X_test = torch.from_numpy(X_test).float()\n",
    "y_test = torch.from_numpy(y_test).float()"
   ]
  },
  {
   "cell_type": "code",
   "execution_count": 6,
   "metadata": {
    "scrolled": true
   },
   "outputs": [
    {
     "name": "stdout",
     "output_type": "stream",
     "text": [
      "torch.Size([50, 55, 10])\n",
      "torch.Size([2750])\n"
     ]
    }
   ],
   "source": [
    "X_train = X_train.reshape([sample_size,55,seq_length])\n",
    "y_train = y_train.reshape([sample_size*55])\n",
    "X_test = X_test.reshape([sample_size1,55,seq_length])\n",
    "y_test = y_test.reshape([sample_size1*55])\n",
    "print(X_train.shape)\n",
    "print(y_train.size())"
   ]
  },
  {
   "cell_type": "code",
   "execution_count": 18,
   "metadata": {},
   "outputs": [],
   "source": [
    "train_on_gpu = torch.cuda.is_available()"
   ]
  },
  {
   "cell_type": "code",
   "execution_count": 20,
   "metadata": {},
   "outputs": [],
   "source": [
    "class RNN(nn.Module):\n",
    "    def __init__(self, n_features, n_hidden, seq_len, n_layers=2):\n",
    "        super(RNN, self).__init__()\n",
    "        self.n_hidden = n_hidden\n",
    "        self.seq_len = seq_len\n",
    "        self.n_layers = n_layers\n",
    "        self.rnn = nn.RNN(\n",
    "            input_size=n_features,\n",
    "            hidden_size=n_hidden,\n",
    "            num_layers=n_layers,\n",
    "        )\n",
    "        self.linear = nn.Linear(in_features=n_hidden, out_features=2)\n",
    "    def forward(self, x, h_state):\n",
    "        r_out, h_state = self.rnn(x, h_state)   # h_state 也要作為 RNN 的一个输入\n",
    "\n",
    "        outs = []    # 保存所有時間點的预測值\n",
    "        for time_step in range(r_out.size(1)):    # 對每一個時間點計算 output\n",
    "            outs.append(self.linear(r_out[:, time_step, :]))\n",
    "        return torch.stack(outs, dim=1), h_state\n",
    "    \n",
    "def train_model(model,train_data,train_labels,test_data,test_labels):\n",
    "    loss_fn = torch.nn.CrossEntropyLoss()\n",
    "    optimiser = torch.optim.SGD(model.parameters(), lr=0.001)\n",
    "    num_epochs = 1000\n",
    "    train_hist = np.zeros(num_epochs)\n",
    "    test_hist = np.zeros(num_epochs)\n",
    "    h_state = None\n",
    "    if train_on_gpu: train_data,train_labels,test_data,test_labels = train_data.cuda(),train_labels.cuda(),test_data.cuda(),test_labels.cuda()\n",
    "    for t in range(num_epochs):\n",
    "        y_pred ,ss= model(train_data,h_state)\n",
    "        y_pred = y_pred.reshape([sample_size*55, 2])\n",
    "        y_pred1 = torch.max(y_pred, 1)[1]\n",
    "        accuracy = float((y_pred1 == train_labels).sum()) / float(sample_size*55)\n",
    "        y = train_labels.long()\n",
    "        lo = loss_fn(y_pred, y)\n",
    "        with torch.no_grad():\n",
    "            test_pred ,ss1= model(test_data,h_state)\n",
    "            test_pred = test_pred.reshape([sample_size1*55,2])\n",
    "            test_pred1 = torch.max(test_pred, 1)[1]\n",
    "            accuracy1 = float((test_pred1 == test_labels).sum()) / float(sample_size1*55)\n",
    "        if t%100 == 0:\n",
    "            print('Train Epoch: {}/{} Traing_Loss: {:.6f} Traing_acc: {:.6f}% Test_acc: {:.6f}%'.format(t, num_epochs, lo.item(), accuracy*100, accuracy1*100))\n",
    "        optimiser.zero_grad()\n",
    "        lo.backward()\n",
    "        optimiser.step()\n",
    "        train_hist[t] = accuracy\n",
    "        test_hist[t] = accuracy1\n",
    "    return y_pred,train_hist,test_hist"
   ]
  },
  {
   "cell_type": "code",
   "execution_count": 21,
   "metadata": {},
   "outputs": [
    {
     "name": "stdout",
     "output_type": "stream",
     "text": [
      "Train Epoch: 0/1000 Traing_Loss: 0.708130 Traing_acc: 23.236364% Test_acc: 44.040404%\n",
      "Train Epoch: 100/1000 Traing_Loss: 0.550924 Traing_acc: 86.581818% Test_acc: 99.393939%\n",
      "Train Epoch: 200/1000 Traing_Loss: 0.492973 Traing_acc: 86.654545% Test_acc: 99.393939%\n",
      "Train Epoch: 300/1000 Traing_Loss: 0.450295 Traing_acc: 86.690909% Test_acc: 99.393939%\n",
      "Train Epoch: 400/1000 Traing_Loss: 0.419120 Traing_acc: 86.072727% Test_acc: 99.393939%\n",
      "Train Epoch: 500/1000 Traing_Loss: 0.398373 Traing_acc: 86.181818% Test_acc: 99.393939%\n",
      "Train Epoch: 600/1000 Traing_Loss: 0.385810 Traing_acc: 85.963636% Test_acc: 99.393939%\n",
      "Train Epoch: 700/1000 Traing_Loss: 0.378497 Traing_acc: 85.818182% Test_acc: 99.393939%\n",
      "Train Epoch: 800/1000 Traing_Loss: 0.374051 Traing_acc: 85.818182% Test_acc: 99.393939%\n",
      "Train Epoch: 900/1000 Traing_Loss: 0.371012 Traing_acc: 85.854545% Test_acc: 99.393939%\n"
     ]
    }
   ],
   "source": [
    "model = RNN(\n",
    "    n_features=seq_length,\n",
    "    n_hidden=512,\n",
    "    seq_len=55,\n",
    "    n_layers=2\n",
    ")\n",
    "if train_on_gpu: model.cuda()\n",
    "model,train,test = train_model(model, X_train, y_train, X_test, y_test)"
   ]
  },
  {
   "cell_type": "code",
   "execution_count": 12,
   "metadata": {},
   "outputs": [],
   "source": [
    "def plot_result(num_epoch,data):\n",
    "    epoch = [i for i in range(num_epoch)]\n",
    "    plt.figure()\n",
    "    plt.plot(epoch, data)\n",
    "    plt.xlabel('epoch')\n",
    "    plt.ylabel('accuracy_rate')\n",
    "    plt.xticks(range(0,len(train)+1,100))\n",
    "    plt.title('accuracy_rate')\n",
    "    plt.show()   "
   ]
  },
  {
   "cell_type": "code",
   "execution_count": 22,
   "metadata": {},
   "outputs": [
    {
     "data": {
      "image/png": "[encoded data removed]",
      "text/plain": [
       "<Figure size 432x288 with 1 Axes>"
      ]
     },
     "metadata": {
      "needs_background": "light"
     },
     "output_type": "display_data"
    }
   ],
   "source": [
    "plot_result(1000,train)"
   ]
  },
  {
   "cell_type": "code",
   "execution_count": 23,
   "metadata": {},
   "outputs": [
    {
     "data": {
      "image/png": "[encoded data removed]",
      "text/plain": [
       "<Figure size 432x288 with 1 Axes>"
      ]
     },
     "metadata": {
      "needs_background": "light"
     },
     "output_type": "display_data"
    }
   ],
   "source": [
    "plot_result(1000,test)"
   ]
  },
  {
   "cell_type": "markdown",
   "metadata": {},
   "source": [
    "# Long Short Term Memory (LSTM)"
   ]
  },
  {
   "cell_type": "code",
   "execution_count": 34,
   "metadata": {},
   "outputs": [],
   "source": [
    "class lstm(nn.Module):\n",
    "    def __init__(self, n_features, n_hidden, seq_len, n_layers=2):\n",
    "        super(lstm, self).__init__()\n",
    "        self.n_hidden = n_hidden\n",
    "        self.seq_len = seq_len\n",
    "        self.n_layers = n_layers\n",
    "        self.lstm = nn.LSTM(\n",
    "            input_size=n_features,\n",
    "            hidden_size=n_hidden,\n",
    "            num_layers=n_layers,\n",
    "            dropout=0.5\n",
    "        )\n",
    "        self.linear = nn.Linear(in_features=n_hidden, out_features=2)\n",
    "    def reset_hidden_state(self):\n",
    "        self.hidden = (\n",
    "            torch.zeros(self.n_layers, self.seq_len, self.n_hidden).cuda(),\n",
    "            torch.zeros(self.n_layers, self.seq_len, self.n_hidden).cuda()\n",
    "        )\n",
    "    def forward(self, sequences):\n",
    "        lstm_out, self.hidden = self.lstm(\n",
    "          sequences.view(len(sequences), self.seq_len, -1),\n",
    "          self.hidden\n",
    "        )\n",
    "        last_time_step = lstm_out.view(self.seq_len, len(sequences), self.n_hidden)\n",
    "        y_pred = self.linear(last_time_step)\n",
    "        return y_pred\n",
    "    \n",
    "def train_model(model,train_data,train_labels,test_data,test_labels):\n",
    "    loss_fn = torch.nn.CrossEntropyLoss()\n",
    "    optimiser = torch.optim.SGD(model.parameters(), lr=0.001)\n",
    "    num_epochs = 500\n",
    "    train_hist = np.zeros(num_epochs)\n",
    "    test_hist = np.zeros(num_epochs)\n",
    "    if train_on_gpu: train_data,train_labels,test_data,test_labels = train_data.cuda(),train_labels.cuda(),test_data.cuda(),test_labels.cuda()\n",
    "    for t in range(num_epochs):\n",
    "        model.reset_hidden_state()\n",
    "        y_pred = model(train_data).reshape([sample_size*55, 2])\n",
    "        y_pred1 = torch.max(y_pred, 1)[1]\n",
    "        accuracy = float((y_pred1 == train_labels).sum()) / float(sample_size*55)\n",
    "        y = train_labels.long()\n",
    "        lo = loss_fn(y_pred, y)\n",
    "        with torch.no_grad():\n",
    "            test_pred = model(test_data).reshape([sample_size1*55,2])\n",
    "            test_pred1 = torch.max(test_pred, 1)[1]\n",
    "            accuracy1 = float((test_pred1 == test_labels).sum()) / float(sample_size1*55)\n",
    "            y1 = test_labels.long()\n",
    "            loss = loss_fn(test_pred, y1)\n",
    "        if t%100 == 0:\n",
    "            print('Train Epoch: {}/{} Traing_Loss: {:.6f} Traing_acc: {:.6f}% Test_acc: {:.6f}%'.format(t, num_epochs, lo.item(), accuracy*100, accuracy1*100))\n",
    "        optimiser.zero_grad()\n",
    "        lo.backward()\n",
    "        optimiser.step()\n",
    "        train_hist[t] = accuracy\n",
    "        test_hist[t] = accuracy1\n",
    "    return y_pred,train_hist,test_hist"
   ]
  },
  {
   "cell_type": "code",
   "execution_count": 26,
   "metadata": {},
   "outputs": [
    {
     "data": {
      "text/plain": [
       "True"
      ]
     },
     "execution_count": 26,
     "metadata": {},
     "output_type": "execute_result"
    }
   ],
   "source": [
    "train_on_gpu"
   ]
  },
  {
   "cell_type": "code",
   "execution_count": 35,
   "metadata": {},
   "outputs": [
    {
     "name": "stdout",
     "output_type": "stream",
     "text": [
      "Train Epoch: 0/500 Traing_Loss: 0.689659 Traing_acc: 65.818182% Test_acc: 28.888889%\n",
      "Train Epoch: 100/500 Traing_Loss: 0.664850 Traing_acc: 79.672727% Test_acc: 96.161616%\n",
      "Train Epoch: 200/500 Traing_Loss: 0.645706 Traing_acc: 81.636364% Test_acc: 98.585859%\n",
      "Train Epoch: 300/500 Traing_Loss: 0.627824 Traing_acc: 82.436364% Test_acc: 98.181818%\n",
      "Train Epoch: 400/500 Traing_Loss: 0.612332 Traing_acc: 82.763636% Test_acc: 98.181818%\n"
     ]
    }
   ],
   "source": [
    "model = lstm(\n",
    "    n_features=seq_length,\n",
    "    n_hidden=512,\n",
    "    seq_len=55,\n",
    "    n_layers=2\n",
    ")\n",
    "if train_on_gpu: model.cuda()\n",
    "model,train,test = train_model(model, X_train, y_train, X_test, y_test)"
   ]
  },
  {
   "cell_type": "code",
   "execution_count": 36,
   "metadata": {},
   "outputs": [
    {
     "data": {
      "image/png": "[encoded data removed]",
      "text/plain": [
       "<Figure size 432x288 with 1 Axes>"
      ]
     },
     "metadata": {
      "needs_background": "light"
     },
     "output_type": "display_data"
    }
   ],
   "source": [
    "plot_result(500,train)"
   ]
  },
  {
   "cell_type": "code",
   "execution_count": 37,
   "metadata": {
    "scrolled": true
   },
   "outputs": [
    {
     "data": {
      "image/png": "[encoded data removed]",
      "text/plain": [
       "<Figure size 432x288 with 1 Axes>"
      ]
     },
     "metadata": {
      "needs_background": "light"
     },
     "output_type": "display_data"
    }
   ],
   "source": [
    "plot_result(500,test)"
   ]
  },
  {
   "cell_type": "code",
   "execution_count": 39,
   "metadata": {},
   "outputs": [],
   "source": [
    "predi =  model.reshape([50,55,2])[-1].cpu()\n",
    "label = torch.max(predi, 1)[1]\n",
    "predi = predi.data.numpy()\n",
    "predi = 1 / (1 + np.exp(-predi.max(axis = 1)))\n",
    "countrys = np.array(train_data.index)"
   ]
  },
  {
   "cell_type": "code",
   "execution_count": 49,
   "metadata": {},
   "outputs": [],
   "source": [
    "import pygal_maps_world.maps\n",
    "from pygal_maps_world.maps import COUNTRIES\n",
    "\n",
    "def get_country_code(country_name):\n",
    "    for code, name in COUNTRIES.items():\n",
    "        if name == country_name:\n",
    "            return code\n",
    "    return None\n",
    "\n",
    "country_symb=[]\n",
    "for i in countrys:\n",
    "    country_symb.append(get_country_code(i))\n",
    "al=pd.Series(predi.reshape(-1))\n",
    "al.index=country_symb\n",
    "al=al[al.index.notnull()]\n",
    "\n",
    "up=al[al>=0.5]\n",
    "down=al[al<0.5]\n",
    "    \n",
    "up=up.to_dict()\n",
    "down=down.to_dict()\n",
    "\n",
    "worldmap_chart = pygal_maps_world.maps.World()\n",
    "\n",
    "worldmap_chart.add(\"ascending\", up)\n",
    "worldmap_chart.add(\"descending\", down)\n",
    "worldmap_chart.render_to_file('bar_chart.svg')"
   ]
  }
 ],
 "metadata": {
  "kernelspec": {
   "display_name": "Python 3",
   "language": "python",
   "name": "python3"
  },
  "language_info": {
   "codemirror_mode": {
    "name": "ipython",
    "version": 3
   },
   "file_extension": ".py",
   "mimetype": "text/x-python",
   "name": "python",
   "nbconvert_exporter": "python",
   "pygments_lexer": "ipython3",
   "version": "3.7.4"
  }
 },
 "nbformat": 4,
 "nbformat_minor": 4
}
