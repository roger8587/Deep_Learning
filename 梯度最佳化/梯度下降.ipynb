{
 "cells": [
  {
   "cell_type": "code",
   "execution_count": 36,
   "metadata": {},
   "outputs": [],
   "source": [
    "import numpy as np\n",
    "import matplotlib.pyplot as plt\n",
    "import matplotlib.animation as animation\n",
    "from sympy import symbols,diff"
   ]
  },
  {
   "cell_type": "code",
   "execution_count": 3,
   "metadata": {
    "scrolled": true
   },
   "outputs": [
    {
     "name": "stdout",
     "output_type": "stream",
     "text": [
      "一階導數:x**2 - 10*x + 1，二階導數:2*x - 10\n"
     ]
    }
   ],
   "source": [
    "x = symbols('x')\n",
    "fx = x**2 - 10*x + 1\n",
    "dfx = diff(fx, x,1)\n",
    "print('一階導數:{}，二階導數:{}'.format(fx,dfx))"
   ]
  },
  {
   "cell_type": "code",
   "execution_count": 4,
   "metadata": {},
   "outputs": [],
   "source": [
    "eta = 0.1\n",
    "x_history = []\n",
    "a = 20\n",
    "threshold = 1e-5"
   ]
  },
  {
   "cell_type": "code",
   "execution_count": 5,
   "metadata": {},
   "outputs": [],
   "source": [
    "while True:\n",
    "    gradient = dfx.evalf(subs = {x:a})\n",
    "    old = a\n",
    "    a = a - eta*gradient\n",
    "    x_history.append(a)\n",
    "    if abs(fx.evalf(subs = {x:a}) - fx.evalf(subs = {x:old})) < threshold:\n",
    "        break"
   ]
  },
  {
   "cell_type": "code",
   "execution_count": 6,
   "metadata": {},
   "outputs": [],
   "source": [
    "plot_x = np.linspace(-10,20,140)\n",
    "plot_y = np.array([fx.evalf(subs = {x:i}) for i in plot_x])\n",
    "gradient_y = np.array([fx.evalf(subs = {x:i}) for i in x_history])"
   ]
  },
  {
   "cell_type": "code",
   "execution_count": 7,
   "metadata": {},
   "outputs": [
    {
     "data": {
      "image/png": "[encoded data removed]",
      "text/plain": [
       "<Figure size 432x288 with 1 Axes>"
      ]
     },
     "metadata": {
      "needs_background": "light"
     },
     "output_type": "display_data"
    }
   ],
   "source": [
    "fig = plt.figure()\n",
    "ims = []\n",
    "im = plt.plot(plot_x, plot_y)\n",
    "plt.xlabel(\"x\")\n",
    "plt.ylabel(r'$f(x) = x^2 - 10x + 1$')\n",
    "for i in x_history:\n",
    "    im = plt.plot(i, fx.evalf(subs = {x:i}),color='r',marker='+')\n",
    "    ims.append(im)\n",
    "ani = animation.ArtistAnimation(fig, ims, interval=200, repeat_delay=1000)\n",
    "ani.save(\"test.gif\",writer='pillow')"
   ]
  },
  {
   "cell_type": "markdown",
   "metadata": {},
   "source": [
    "![title](test.gif)"
   ]
  },
  {
   "cell_type": "markdown",
   "metadata": {},
   "source": [
    "# 梯度下降Gradient Descent(GD)"
   ]
  },
  {
   "cell_type": "code",
   "execution_count": 22,
   "metadata": {},
   "outputs": [],
   "source": [
    "def fx(W, X_b, y):\n",
    "    return sum((y-X_b.dot(W))**2)/len(y)\n",
    "\n",
    "def dfx(W, X_b, y):\n",
    "    return X_b.T.dot(X_b.dot(W)-y)*2. / len(y)"
   ]
  },
  {
   "cell_type": "code",
   "execution_count": 38,
   "metadata": {},
   "outputs": [],
   "source": [
    "def GD(intial_W, X_b, y, eta , n_iters):\n",
    "    W = intial_W\n",
    "    i_iter = 0\n",
    "    loss = []\n",
    "    while i_iter < n_iters:\n",
    "        gradient = dfx(W, X_b, y)\n",
    "        W_old = W\n",
    "        W = W_old - eta*gradient\n",
    "        i_iter += 1\n",
    "        loss.append(fx(W, X_b, y))\n",
    "    return loss"
   ]
  },
  {
   "cell_type": "markdown",
   "metadata": {},
   "source": [
    "# 隨機梯度下降 Stochastic Gradient Descent(SGD)\n",
    "在更新參數的時候 <br>\n",
    "GD我們是一次用全部訓練集的數據去計算損失函數的梯度就更新一次參數。<br>\n",
    "SGD就是一次跑一個樣本或是小批次(mini-batch)樣本然後算出一次梯度或是小批次梯度的平均後就更新一次，那這個樣本或是小批次的樣本是隨機抽取的，所以才會稱為隨機梯度下降法。<br>\n",
    "## SGD缺點\n",
    "SGD一定有一些缺點，才會有後續的演進，在當下的問題如果學習率太大，容易造成參數更新呈現鋸齒狀的更新，這是很沒有效率的路徑。"
   ]
  },
  {
   "cell_type": "code",
   "execution_count": 28,
   "metadata": {},
   "outputs": [],
   "source": [
    "def dfx_SGD(W, X_bi, yi):\n",
    "    return X_bi.T.dot(X_bi.dot(W)-yi)*2.\n",
    "\n",
    "def SGD(intial_W, X_b, y, eta ,n_iters):\n",
    "    W = intial_W\n",
    "    i_iter = 0\n",
    "    loss = []\n",
    "    while i_iter < n_iters:\n",
    "        rand_i = np.random.randint(len(X_b))\n",
    "        gradient = dfx_SGD(W, X_b[rand_i], y[rand_i])\n",
    "        W_old = W\n",
    "        W = W_old - eta*gradient\n",
    "        i_iter += 1\n",
    "        loss.append(fx(W, X_b, y))\n",
    "    return loss"
   ]
  },
  {
   "cell_type": "markdown",
   "metadata": {},
   "source": [
    "# 小批量隨機梯度下降 Min-Batch Stochastic Gradient Descent"
   ]
  },
  {
   "cell_type": "code",
   "execution_count": 40,
   "metadata": {},
   "outputs": [],
   "source": [
    "def dfx_mini_batch_SGD(W, X_b_batch, y_batch):\n",
    "    return X_b_batch.T.dot(X_b_batch.dot(W)-y_batch)*2. / len(y_batch)\n",
    "\n",
    "def mini_batch_SGD(intial_W, X_b, y, eta, n_iters, batch_size = 128):\n",
    "    W = intial_W\n",
    "    i_iter = 0\n",
    "    loss = []\n",
    "    while i_iter < n_iters:\n",
    "        rand_i = [np.random.randint(len(X_b)) for i in range(batch_size)]\n",
    "        gradient = dfx_mini_batch_SGD(W, X_b[rand_i], y[rand_i])\n",
    "        W_old = W\n",
    "        W = W_old - eta*gradient\n",
    "        i_iter += 1\n",
    "        loss.append(fx(W, X_b, y))\n",
    "    return loss"
   ]
  },
  {
   "cell_type": "markdown",
   "metadata": {},
   "source": [
    "# Momentum\n",
    "m是momentum項(一般設定為0.9)，主要是用在計算參數更新方向前會考慮前一次參數更新的方向，如果當下梯度方向和歷史參數更新的方向一致，則會增強這個方向的梯度，若當下梯度方向和歷史參數更新的方向不一致，則梯度會衰退。然後每一次對梯度作方向微調。這樣可以增加學習上的穩定性(梯度不更新太快)，這樣可以學習的更快，並且有擺脫局部最佳解的能力。\n",
    "![title](momentum.png)"
   ]
  },
  {
   "cell_type": "code",
   "execution_count": 30,
   "metadata": {},
   "outputs": [],
   "source": [
    "def dfx_momentum(W, X_b, y):\n",
    "    return X_b.T.dot(X_b.dot(W)-y)*2. / len(y)\n",
    "\n",
    "#m是momentum項(一般設定為0.9)\n",
    "def momentum(intial_W, X_b, y, eta, n_iters, m = 0.9):\n",
    "    W = intial_W\n",
    "    i_iter = 0\n",
    "    loss = []\n",
    "    while i_iter < n_iters:\n",
    "        gradient = dfx_momentum(W, X_b, y)\n",
    "        W_old = W\n",
    "        if i_iter == 0:\n",
    "            v = eta*gradient\n",
    "        else:\n",
    "            v = m*v_old + eta*gradient\n",
    "        W = W_old - v\n",
    "        v_old = v\n",
    "        i_iter += 1\n",
    "        loss.append(fx(W, X_b, y))\n",
    "    return loss"
   ]
  },
  {
   "cell_type": "markdown",
   "metadata": {},
   "source": [
    "# Adagrad\n",
    "![title](adagrad.png)\n",
    "$\\epsilon$是平滑項，主要避免分母為0的問題，一般設定為1e-7。Gt這邊定義是一個對角矩陣，對角線每一個元素是相對應每一個參數梯度的平方和。\n",
    "![title](Gt.png)\n",
    "## Adagrad缺點\n",
    "是在訓練中後段時，有可能因為分母累積越來越大(因為是從第1次梯度到第t次梯度的和)導致梯度趨近於0，如果有設定early stop的，會使得訓練提前結束。"
   ]
  },
  {
   "cell_type": "code",
   "execution_count": 31,
   "metadata": {},
   "outputs": [],
   "source": [
    "def dfx_adagrad(W, X_b, y):\n",
    "    return X_b.T.dot(X_b.dot(W)-y)*2. / len(y)\n",
    "\n",
    "def adagrad(intial_W, X_b, y, eta, n_iters, epsilon = 1e-7):\n",
    "    W = intial_W\n",
    "    i_iter = 0\n",
    "    ada = 0\n",
    "    loss = []\n",
    "    while i_iter < n_iters:\n",
    "        W_old = W\n",
    "        gt = dfx_adagrad(W, X_b, y)\n",
    "        ada += gt**2\n",
    "        W = W_old - gt*eta/(ada**(1/2)+epsilon)\n",
    "        i_iter += 1\n",
    "        loss.append(fx(W, X_b, y))\n",
    "    return loss"
   ]
  },
  {
   "cell_type": "markdown",
   "metadata": {},
   "source": [
    "# RMSProp\n",
    "和Adagrad一樣是自適應的方法，但Adagrad的分母是從第1次梯度到第t次梯度的和，所以和可能過大，兒RMSprop則是算對應的平均值，因此可以緩解Adagrad學習率下降過快的問題。\n",
    "![title](RMSProp.png)\n",
    "E[ ]在統計上就是取期望值，所以是取$g_i^2$的期望值，白話說就是他的平均數。$\\rho$是過去t-1時間的梯度平均數的權重，一般建議設成0.9。"
   ]
  },
  {
   "cell_type": "code",
   "execution_count": 32,
   "metadata": {},
   "outputs": [],
   "source": [
    "def dfx_RMSProp(W, X_b, y):\n",
    "    return X_b.T.dot(X_b.dot(W)-y)*2. / len(y)\n",
    "\n",
    "def RMSProp(intial_W, X_b, y, eta, n_iters, rho = 0.9, epsilon = 1e-7):\n",
    "    W = intial_W\n",
    "    i_iter = 0\n",
    "    a1 = 0\n",
    "    loss = []\n",
    "    while i_iter < n_iters:\n",
    "        W_old = W\n",
    "        gt = dfx_RMSProp(W, X_b, y)\n",
    "        if i_iter == 0:\n",
    "            a2 = (1-rho)*gt**2\n",
    "        else:\n",
    "            a2 = rho*a1/i_iter + (1-rho)*gt**2\n",
    "        a1 += gt**2\n",
    "        W = W_old - gt*eta/(a2**(1/2)+epsilon)\n",
    "        i_iter += 1\n",
    "        loss.append(fx(W, X_b, y))\n",
    "    return loss"
   ]
  },
  {
   "cell_type": "markdown",
   "metadata": {},
   "source": [
    "# Adam\n",
    "Adam全名Adaptive Moment Estimation。剛剛介紹的Momentum是「計算參數更新方向前會考慮前一次參數更新的方向」， RMSprop則是「在學習率上依據梯度的大小對學習率進行加強或是衰減」。<br>\n",
    "## Adam則是兩者合併加強版本(Momentum+RMSprop+各自做偏差的修正)。\n",
    "![title](adam1.png)\n",
    "$m_t$和$v_t$分別是梯度的一階動差函數和二階動差函數(非去中心化)。因為$m_t$和$v_t$初始設定是全為0的向量，Adam的作者發現算法偏量很容易區近於0，因此他們提出修正項，去消除這些偏量\n",
    "![title](adam2.png)\n",
    "## Adam更新的準則:\n",
    "![title](adam3.png)\n",
    "作者有建議預設值$\\beta_1$=0.9, $\\beta_2$=0.999, $\\epsilon$=10^(-8)。"
   ]
  },
  {
   "cell_type": "code",
   "execution_count": 33,
   "metadata": {},
   "outputs": [],
   "source": [
    "def dfx_Adam(W, X_b, y):\n",
    "    return X_b.T.dot(X_b.dot(W)-y)*2. / len(y)\n",
    "\n",
    "def Adam(intial_W, X_b, y, eta, n_iters, beta1 = 0.9, beta2 = 0.999, epsilon = 1e-8):\n",
    "    W = intial_W\n",
    "    i_iter = 0\n",
    "    mt = 0\n",
    "    vt = 0\n",
    "    loss = []\n",
    "    while i_iter < n_iters:\n",
    "        W_old = W\n",
    "        gt = dfx_Adam(W, X_b, y)\n",
    "        mt = beta1*mt + (1-beta1)*gt\n",
    "        vt = beta2*vt + (1-beta2)*gt**2\n",
    "        mt_hat = mt/(1-beta1**(i_iter+1))\n",
    "        vt_hat = vt/(1-beta2**(i_iter+1))\n",
    "        W = W_old - mt_hat*eta/(vt_hat**(1/2)+epsilon)\n",
    "        i_iter += 1\n",
    "        loss.append(fx(W, X_b, y))\n",
    "    return loss"
   ]
  },
  {
   "cell_type": "code",
   "execution_count": 34,
   "metadata": {},
   "outputs": [],
   "source": [
    "m = 100000\n",
    "x = np.random.normal(size = m)\n",
    "X = x.reshape(-1,1)\n",
    "y = 4. * x + 3. +np.random.normal(0,3,size = m)\n",
    "X_b = np.hstack([np.ones((len(x),1)), X])\n",
    "intial_W = np.zeros(X_b.shape[1])"
   ]
  },
  {
   "cell_type": "code",
   "execution_count": 41,
   "metadata": {},
   "outputs": [],
   "source": [
    "a1 = GD(intial_W, X_b, y, 0.01, 1e3)\n",
    "a2 = SGD(intial_W, X_b, y, 0.01, 1e3)\n",
    "a3 = mini_batch_SGD(intial_W, X_b, y, 0.01, 1e3, batch_size = 128)\n",
    "a4 = momentum(intial_W, X_b, y, 0.01, 1e3)\n",
    "a5 = adagrad(intial_W, X_b, y, 0.01, 1e3)\n",
    "a6 = RMSProp(intial_W, X_b, y, 0.01, 1e3)\n",
    "a7 = Adam(intial_W, X_b, y, 0.01, 1e3)"
   ]
  },
  {
   "cell_type": "code",
   "execution_count": 49,
   "metadata": {},
   "outputs": [
    {
     "data": {
      "text/plain": [
       "Text(0, 0.5, 'Loss')"
      ]
     },
     "execution_count": 49,
     "metadata": {},
     "output_type": "execute_result"
    },
    {
     "data": {
      "image/png": "[encoded data removed]",
      "text/plain": [
       "<Figure size 432x288 with 1 Axes>"
      ]
     },
     "metadata": {
      "needs_background": "light"
     },
     "output_type": "display_data"
    }
   ],
   "source": [
    "plt.plot(range(1000), a1, label = 'GD')\n",
    "plt.plot(range(1000), a2, label = 'SGD')\n",
    "plt.plot(range(1000), a3, label = 'mini_batch_SGD')\n",
    "plt.plot(range(1000), a4, label = 'momentum')\n",
    "plt.plot(range(1000), a5, label = 'adagrad')\n",
    "plt.plot(range(1000), a6, label = 'RMSProp')\n",
    "plt.plot(range(1000), a7, label = 'Adam')\n",
    "plt.legend(bbox_to_anchor=(1.05, 1))\n",
    "plt.xlabel(\"Iterations\", fontsize=16)\n",
    "plt.ylabel(\"Loss\", fontsize=16)"
   ]
  }
 ],
 "metadata": {
  "kernelspec": {
   "display_name": "Python 3",
   "language": "python",
   "name": "python3"
  },
  "language_info": {
   "codemirror_mode": {
    "name": "ipython",
    "version": 3
   },
   "file_extension": ".py",
   "mimetype": "text/x-python",
   "name": "python",
   "nbconvert_exporter": "python",
   "pygments_lexer": "ipython3",
   "version": "3.7.6"
  }
 },
 "nbformat": 4,
 "nbformat_minor": 4
}
